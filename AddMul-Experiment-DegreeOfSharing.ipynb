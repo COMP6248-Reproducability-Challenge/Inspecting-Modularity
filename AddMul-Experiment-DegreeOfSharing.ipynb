{
 "cells": [
  {
   "cell_type": "markdown",
   "id": "b92c24c2",
   "metadata": {},
   "source": [
    "# Calculating Deree of Mask Weight Sharing"
   ]
  },
  {
   "cell_type": "code",
   "execution_count": 1,
   "id": "f9f73235",
   "metadata": {},
   "outputs": [],
   "source": [
    "import torch\n",
    "import numpy as np\n",
    "import matplotlib.pyplot as plt\n",
    "\n",
    "from models.addmul import HandleAddMul\n",
    "\n",
    "def cycle(iterable):\n",
    "    while True:\n",
    "        for x in iterable:\n",
    "            yield x\n",
    "\n",
    "network_cache_dir = \"networks/cache-networks/\"\n",
    "network_name = \"lyr256-split0.8-lr0.01-add-mul.data\"\n",
    "\n",
    "checkpoint = True\n",
    "test_flag = 1\n",
    "\n",
    "input_dims = [42]\n",
    "output_dims = [20]\n",
    "batchsize = 128\n",
    "num_epochs = 1"
   ]
  },
  {
   "cell_type": "raw",
   "id": "45eceb89",
   "metadata": {},
   "source": [
    "device = \"cuda:0\" if torch.cuda.is_available() else \"cpu\"\n",
    "print(device)"
   ]
  },
  {
   "cell_type": "code",
   "execution_count": 2,
   "id": "6ea41ab4",
   "metadata": {},
   "outputs": [
    {
     "name": "stdout",
     "output_type": "stream",
     "text": [
      "... FNN Network training on cuda:0 ...\n",
      "Accessing : networks/cache-networks/lyr256-split0.8-lr0.01-add-mul.data\n",
      "networks/cache-networks/lyr256-split0.8-lr0.01-add-mul.data\n"
     ]
    }
   ],
   "source": [
    "'''Initialise logits & define loss and Optimiser'''\n",
    "handler = HandleAddMul(input_dims, output_dims, dir=network_cache_dir+network_name, \n",
    "                       checkpoint=checkpoint, use_optimiser=False)\n",
    "handler.network.eval()\n",
    "\n",
    "add_logits = torch.load('trainedmasks/trained_logits_add_mask_v0.pt')\n",
    "mul_logits = torch.load('trainedmasks/trained_logits_mul_mask_v0.pt')\n",
    "\n",
    "binary_add_mask = []\n",
    "binary_mul_mask = []\n",
    "with torch.no_grad():\n",
    "    for add_layer, mul_layer in zip(add_logits, mul_logits):\n",
    "        binary_add_mask.append((torch.sigmoid(add_layer) > 0.5).float())\n",
    "        binary_mul_mask.append((torch.sigmoid(mul_layer) > 0.5).float())"
   ]
  },
  {
   "cell_type": "markdown",
   "id": "e69f8c6f",
   "metadata": {},
   "source": [
    "# Calculate the Number of Shared Weights in each Layer"
   ]
  },
  {
   "cell_type": "code",
   "execution_count": 6,
   "id": "64baddaf",
   "metadata": {},
   "outputs": [
    {
     "name": "stdout",
     "output_type": "stream",
     "text": [
      "[0.6201190476190476, 0.8392965, 0.92570525, 0.94004175, 0.929035, 0.9376775, 0.874975]\n"
     ]
    }
   ],
   "source": [
    "shared_weights = []\n",
    "with torch.no_grad():\n",
    "    for add_layer, mul_layer in zip(binary_add_mask, binary_mul_mask):\n",
    "        add_layer = torch.flatten(add_layer)\n",
    "        mul_layer = torch.flatten(mul_layer)\n",
    "        shared_mask = add_layer*mul_layer\n",
    "        shared = torch.sum(shared_mask).cpu().numpy()/len(add_layer)\n",
    "        shared_weights.append(shared)\n",
    "print(shared_weights)"
   ]
  },
  {
   "cell_type": "markdown",
   "id": "458dbcc5",
   "metadata": {},
   "source": [
    "## Plot results for shared weights by layer"
   ]
  },
  {
   "cell_type": "code",
   "execution_count": 7,
   "id": "0fc0b8f7",
   "metadata": {},
   "outputs": [
    {
     "data": {
      "image/png": "[encoded data removed]",
      "text/plain": [
       "<Figure size 432x288 with 1 Axes>"
      ]
     },
     "metadata": {
      "needs_background": "light"
     },
     "output_type": "display_data"
    }
   ],
   "source": [
    "import matplotlib.pyplot as plt\n",
    "fig = plt.figure()\n",
    "ax = fig.add_axes([0,0,1,1])\n",
    "layer_names = ['input', 'layer1', 'layer2', 'layer3', 'layer4', 'layer5', 'output']\n",
    "ax.bar(layer_names, shared_weights, width = 0.8)\n",
    "ax.set_xlabel('Network Layer')\n",
    "ax.set_ylabel('Percent of Shared Weights')\n",
    "\n",
    "plt.show()"
   ]
  },
  {
   "cell_type": "markdown",
   "id": "d48179c7",
   "metadata": {},
   "source": [
    "# Plot result for total percent of shared weights"
   ]
  },
  {
   "cell_type": "code",
   "execution_count": 18,
   "id": "14b7a882",
   "metadata": {},
   "outputs": [
    {
     "data": {
      "image/png": "[encoded data removed]",
      "text/plain": [
       "<Figure size 432x288 with 1 Axes>"
      ]
     },
     "metadata": {
      "needs_background": "light"
     },
     "output_type": "display_data"
    }
   ],
   "source": [
    "import matplotlib.pyplot as plt\n",
    "res = np.mean(shared_weights)\n",
    "fig = plt.figure()\n",
    "ax = fig.add_axes([0,0,1,1])\n",
    "layer_names = [' ','total network', '']\n",
    "ax.bar(layer_names, [0,res, 0], width = 0.8)\n",
    "ax.set_xlabel('Network Layer')\n",
    "ax.set_ylabel('Percent of Shared Weights')\n",
    "\n",
    "plt.show()"
   ]
  }
 ],
 "metadata": {
  "kernelspec": {
   "display_name": "Python 3 (ipykernel)",
   "language": "python",
   "name": "python3"
  },
  "language_info": {
   "codemirror_mode": {
    "name": "ipython",
    "version": 3
   },
   "file_extension": ".py",
   "mimetype": "text/x-python",
   "name": "python",
   "nbconvert_exporter": "python",
   "pygments_lexer": "ipython3",
   "version": "3.9.11"
  }
 },
 "nbformat": 4,
 "nbformat_minor": 5
}
