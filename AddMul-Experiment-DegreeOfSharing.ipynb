{
 "cells": [
  {
   "cell_type": "code",
   "execution_count": 1,
   "id": "f9f73235",
   "metadata": {},
   "outputs": [],
   "source": [
    "import torch\n",
    "import numpy as np\n",
    "import matplotlib.pyplot as plt\n",
    "\n",
    "from models.addmul import HandleAddMul\n",
    "\n",
    "def cycle(iterable):\n",
    "    while True:\n",
    "        for x in iterable:\n",
    "            yield x\n",
    "\n",
    "network_cache_dir = \"networks/cache-networks/\"\n",
    "network_name = \"lyr256-split0.8-lr0.01-add-mul.data\"\n",
    "\n",
    "checkpoint = True\n",
    "test_flag = 1\n",
    "\n",
    "input_dims = [42]\n",
    "output_dims = [20]\n",
    "batchsize = 128\n",
    "num_epochs = 1"
   ]
  },
  {
   "cell_type": "markdown",
   "id": "9fd90f94",
   "metadata": {},
   "source": [
    "device = \"cuda:0\" if torch.cuda.is_available() else \"cpu\"\n",
    "print(device)"
   ]
  },
  {
   "cell_type": "code",
   "execution_count": 34,
   "id": "6ea41ab4",
   "metadata": {},
   "outputs": [
    {
     "name": "stdout",
     "output_type": "stream",
     "text": [
      "... FNN Network training on cuda:0 ...\n",
      "Accessing : networks/cache-networks/lyr256-split0.8-lr0.01-add-mul.data\n",
      "networks/cache-networks/lyr256-split0.8-lr0.01-add-mul.data\n",
      "tensor([[0.6346, 0.6051, 0.5066,  ..., 0.7337, 0.5273, 0.7109],\n",
      "        [0.8369, 0.7475, 0.7526,  ..., 0.9979, 0.6413, 0.7109],\n",
      "        [1.0000, 0.0447, 0.4660,  ..., 0.2467, 1.0000, 0.7109],\n",
      "        ...,\n",
      "        [0.6005, 0.5422, 0.7493,  ..., 0.5272, 0.8931, 0.7109],\n",
      "        [0.8720, 0.9344, 0.6235,  ..., 0.2868, 0.4106, 0.7109],\n",
      "        [0.6219, 0.4008, 0.0441,  ..., 0.0583, 0.2260, 0.7109]],\n",
      "       device='cuda:0')\n",
      "tensor([[0.8140, 0.9285, 0.9146,  ..., 0.7109, 0.8905, 0.7297],\n",
      "        [0.5202, 0.3873, 0.9999,  ..., 0.7109, 0.7862, 0.6994],\n",
      "        [0.4867, 0.2444, 0.0686,  ..., 0.7109, 0.8642, 0.9220],\n",
      "        ...,\n",
      "        [0.7109, 0.7501, 0.7233,  ..., 0.7109, 0.6865, 0.7032],\n",
      "        [0.8377, 0.6356, 0.9265,  ..., 0.7109, 0.4170, 0.9966],\n",
      "        [0.4270, 1.0000, 0.7122,  ..., 0.7109, 0.6610, 0.7765]],\n",
      "       device='cuda:0')\n",
      "tensor([[0.7653, 0.7418, 0.6317,  ..., 0.7109, 0.7113, 0.7712],\n",
      "        [0.8200, 0.8152, 0.4094,  ..., 0.7109, 0.6301, 0.6021],\n",
      "        [0.7109, 0.7109, 0.7109,  ..., 0.7109, 0.7109, 0.7109],\n",
      "        ...,\n",
      "        [0.6861, 0.9999, 0.3357,  ..., 0.7277, 0.4214, 0.2720],\n",
      "        [0.5778, 0.9683, 0.5134,  ..., 0.7275, 0.4025, 0.1338],\n",
      "        [0.8069, 0.3391, 0.8457,  ..., 0.6936, 0.5929, 0.8949]],\n",
      "       device='cuda:0')\n",
      "tensor([[0.7109, 0.7109, 0.7109,  ..., 0.7109, 0.7109, 0.7109],\n",
      "        [0.7109, 0.7109, 0.7109,  ..., 0.7109, 0.7109, 0.7109],\n",
      "        [0.7109, 0.7109, 0.7109,  ..., 0.7109, 0.7109, 0.7109],\n",
      "        ...,\n",
      "        [0.7883, 0.4340, 0.7109,  ..., 0.9153, 0.7649, 0.7064],\n",
      "        [0.5730, 0.1013, 0.7109,  ..., 1.0000, 0.3141, 0.2090],\n",
      "        [0.7109, 0.7109, 0.7109,  ..., 0.7109, 0.7109, 0.7109]],\n",
      "       device='cuda:0')\n",
      "tensor([[0.7109, 0.7109, 0.7109,  ..., 0.7109, 0.7109, 0.7109],\n",
      "        [0.7109, 0.7109, 0.7109,  ..., 0.7109, 0.7109, 0.7109],\n",
      "        [0.7109, 0.7109, 0.7109,  ..., 0.9897, 0.5384, 0.7109],\n",
      "        ...,\n",
      "        [0.7109, 0.7109, 0.7109,  ..., 0.7109, 0.7109, 0.7109],\n",
      "        [0.7109, 0.7109, 0.7109,  ..., 0.9998, 1.0000, 0.7109],\n",
      "        [0.7109, 0.7109, 0.7109,  ..., 0.7109, 0.7109, 0.7109]],\n",
      "       device='cuda:0')\n",
      "tensor([[0.7109, 0.7109, 0.1851,  ..., 0.7109, 0.9997, 0.7109],\n",
      "        [0.7109, 0.7109, 0.8377,  ..., 0.7109, 0.7886, 0.7109],\n",
      "        [0.7109, 0.7109, 0.7109,  ..., 0.7109, 0.7109, 0.7109],\n",
      "        ...,\n",
      "        [0.7109, 0.7109, 0.7810,  ..., 0.7109, 0.5566, 0.7109],\n",
      "        [0.7109, 0.7109, 0.7109,  ..., 0.7109, 0.7109, 0.7109],\n",
      "        [0.7109, 0.7109, 0.2715,  ..., 0.7109, 0.2384, 0.7109]],\n",
      "       device='cuda:0')\n",
      "tensor([[0.9996, 0.9972, 0.7109,  ..., 0.0622, 0.7109, 1.0000],\n",
      "        [0.4781, 0.9515, 0.7109,  ..., 0.9667, 0.7109, 0.2456],\n",
      "        [0.4109, 0.6936, 0.7109,  ..., 0.2954, 0.7109, 0.9151],\n",
      "        ...,\n",
      "        [0.9896, 0.9895, 0.7109,  ..., 0.9849, 0.7109, 1.0000],\n",
      "        [0.4009, 0.1074, 0.7109,  ..., 0.9350, 0.7109, 0.9998],\n",
      "        [0.2041, 0.6919, 0.7109,  ..., 0.9325, 0.7109, 1.0000]],\n",
      "       device='cuda:0')\n"
     ]
    }
   ],
   "source": [
    "'''Initialise logits & define loss and Optimiser'''\n",
    "handler = HandleAddMul(input_dims, output_dims, dir=network_cache_dir+network_name, \n",
    "                       checkpoint=checkpoint, use_optimiser=False)\n",
    "handler.network.eval()\n",
    "\n",
    "add_logits = torch.load('trainedmasks/trained_logits_add_mask_v0.pt')\n",
    "mul_logits = torch.load('trainedmasks/trained_logits_mul_mask_v0.pt')\n",
    "\n",
    "binary_add_mask = []\n",
    "binary_mul_mask = []\n",
    "with torch.no_grad():\n",
    "    for add_layer, mul_layer in zip(add_logits, mul_logits):\n",
    "        binary_add_mask.append((torch.sigmoid(add_layer) > 0.5).float())\n",
    "        binary_mul_mask.append((torch.sigmoid(mul_layer) > 0.5).float())"
   ]
  },
  {
   "cell_type": "markdown",
   "id": "ca1997f9",
   "metadata": {},
   "source": [
    "# Calculate the Number of Shared Weights in each Layer"
   ]
  },
  {
   "cell_type": "code",
   "execution_count": 40,
   "id": "64baddaf",
   "metadata": {},
   "outputs": [
    {
     "name": "stdout",
     "output_type": "stream",
     "text": [
      "[0.6201190476190476, 0.8392965, 0.92570525, 0.94004175, 0.929035, 0.9376775, 0.874975]\n"
     ]
    }
   ],
   "source": [
    "shared_weights = []\n",
    "with torch.no_grad():\n",
    "    for add_layer, mul_layer in zip(binary_add_mask, binary_mul_mask):\n",
    "        add_layer = torch.flatten(add_layer)\n",
    "        mul_layer = torch.flatten(mul_layer)\n",
    "        shared_mask = add_layer*mul_layer\n",
    "        shared = len(shared_mask[shared_mask == 1])/len(add_layer)\n",
    "        shared_weights.append(shared)\n",
    "print(shared_weights)"
   ]
  },
  {
   "cell_type": "markdown",
   "id": "a151da1f",
   "metadata": {},
   "source": [
    "## Plot results for shared weights by layer"
   ]
  },
  {
   "cell_type": "code",
   "execution_count": 51,
   "id": "3166942c",
   "metadata": {},
   "outputs": [
    {
     "data": {
      "image/png": "[encoded data removed]",
      "text/plain": [
       "<Figure size 432x288 with 1 Axes>"
      ]
     },
     "metadata": {
      "needs_background": "light"
     },
     "output_type": "display_data"
    }
   ],
   "source": [
    "import matplotlib.pyplot as plt\n",
    "fig = plt.figure()\n",
    "ax = fig.add_axes([0,0,1,1])\n",
    "layer_names = ['input', 'layer1', 'layer2', 'layer3', 'layer4', 'layer5', 'output']\n",
    "ax.bar(layer_names, shared_weights, width = 0.8)\n",
    "ax.set_xlabel('Network Layer')\n",
    "ax.set_ylabel('Percent of Shared Weights')\n",
    "\n",
    "plt.show()"
   ]
  },
  {
   "cell_type": "markdown",
   "id": "523de16b",
   "metadata": {},
   "source": [
    "# Plot result for total percent of shared weights"
   ]
  },
  {
   "cell_type": "code",
   "execution_count": 53,
   "id": "1a9d51d8",
   "metadata": {},
   "outputs": [
    {
     "data": {
      "image/png": "[encoded data removed]",
      "text/plain": [
       "<Figure size 432x288 with 1 Axes>"
      ]
     },
     "metadata": {
      "needs_background": "light"
     },
     "output_type": "display_data"
    }
   ],
   "source": [
    "import matplotlib.pyplot as plt\n",
    "res = np.mean(shared_weights)\n",
    "fig = plt.figure()\n",
    "ax = fig.add_axes([0,0,1,1])\n",
    "layer_names = ['total network']\n",
    "ax.bar(layer_names, res, width = 0.5)\n",
    "ax.set_xlabel('Network Layer')\n",
    "ax.set_ylabel('Percent of Shared Weights')\n",
    "\n",
    "plt.show()"
   ]
  }
 ],
 "metadata": {
  "kernelspec": {
   "display_name": "Python 3 (ipykernel)",
   "language": "python",
   "name": "python3"
  },
  "language_info": {
   "codemirror_mode": {
    "name": "ipython",
    "version": 3
   },
   "file_extension": ".py",
   "mimetype": "text/x-python",
   "name": "python",
   "nbconvert_exporter": "python",
   "pygments_lexer": "ipython3",
   "version": "3.9.11"
  }
 },
 "nbformat": 4,
 "nbformat_minor": 5
}
