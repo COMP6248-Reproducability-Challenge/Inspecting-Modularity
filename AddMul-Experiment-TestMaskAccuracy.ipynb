{
 "cells": [
  {
   "cell_type": "markdown",
   "id": "e72b97d2",
   "metadata": {},
   "source": [
    "# Testing Average Accuracy of Masking over entire Dataset"
   ]
  },
  {
   "cell_type": "code",
   "execution_count": 7,
   "id": "f9f73235",
   "metadata": {},
   "outputs": [],
   "source": [
    "import torch\n",
    "import numpy as np\n",
    "import matplotlib.pyplot as plt\n",
    "\n",
    "from models.addmul import HandleAddMul\n",
    "\n",
    "def cycle(iterable):\n",
    "    while True:\n",
    "        for x in iterable:\n",
    "            yield x\n",
    "\n",
    "network_cache_dir = \"networks/cache-networks/\"\n",
    "network_name = \"lyr256-split0.8-lr0.01-add-mul.data\"\n",
    "\n",
    "checkpoint = True\n",
    "test_flag = 1\n",
    "\n",
    "input_dims = [42]\n",
    "output_dims = [20]\n",
    "batchsize = 128\n",
    "num_epochs = 1"
   ]
  },
  {
   "cell_type": "raw",
   "id": "35a47bb1",
   "metadata": {},
   "source": [
    "device = \"cuda:0\" if torch.cuda.is_available() else \"cpu\"\n",
    "print(device)"
   ]
  },
  {
   "cell_type": "code",
   "execution_count": 8,
   "id": "6ea41ab4",
   "metadata": {},
   "outputs": [
    {
     "name": "stdout",
     "output_type": "stream",
     "text": [
      "... FNN Network training on cuda:0 ...\n",
      "Accessing : networks/cache-networks/lyr256-split0.8-lr0.01-add-mul.data\n",
      "networks/cache-networks/lyr256-split0.8-lr0.01-add-mul.data\n"
     ]
    }
   ],
   "source": [
    "'''Initialise logits & define loss and Optimiser'''\n",
    "handler = HandleAddMul(input_dims, output_dims, dir=network_cache_dir+network_name, \n",
    "                       checkpoint=checkpoint, use_optimiser=False)\n",
    "handler.network.eval()\n",
    "\n",
    "logits = torch.load('trainedmasks/trained_logits_add_mask_v0.pt')\n",
    "binary_mask = []\n",
    "with torch.no_grad():\n",
    "    for layer in logits:\n",
    "        binary = (torch.sigmoid(layer) > 0.7)\n",
    "        #binary = ~binary # invert mask\n",
    "        binary_mask.append(binary.float())"
   ]
  },
  {
   "cell_type": "code",
   "execution_count": 9,
   "id": "64baddaf",
   "metadata": {},
   "outputs": [],
   "source": [
    "train_split = 0.8\n",
    "test_split = 1 - train_split\n",
    "\n",
    "data_fp = [\"generate_datasets/tmp/digit-data/simple_add.npy\",\n",
    "           \"generate_datasets/tmp/digit-data/simple_mul.npy\"]\n",
    "data_add = np.load(data_fp[0], allow_pickle=True)\n",
    "data_mul = np.load(data_fp[1], allow_pickle=True)\n",
    "mul_factor = int(len(data_add)/len(data_mul)) + 1\n",
    "data_mul = np.concatenate([data_mul for i in range(mul_factor)])\n",
    "np.random.shuffle(data_mul)\n",
    "data_mul = data_mul[:len(data_add)]\n",
    "assert len(data_mul) == len(data_add)\n",
    "\n",
    "test_loader_add = torch.utils.data.DataLoader(dataset=torch.Tensor(data_add), batch_size=batchsize, shuffle=True)\n",
    "test_loader_mul = torch.utils.data.DataLoader(dataset=torch.Tensor(data_mul), batch_size=batchsize, shuffle=True)\n",
    "\n",
    "def cycle(iterable):\n",
    "    while True:\n",
    "        for x in iterable:\n",
    "            yield x\n",
    "\n",
    "iterator_test_add = iter(cycle(test_loader_add))\n",
    "iterator_test_mul = iter(cycle(test_loader_mul))"
   ]
  },
  {
   "cell_type": "code",
   "execution_count": 10,
   "id": "d62bd087",
   "metadata": {},
   "outputs": [],
   "source": [
    "loss_hist = []\n",
    "NUM_EPOCHS = 200\n",
    "\n",
    "mul_acc = 0.\n",
    "add_acc = 0.\n",
    "\n",
    "for e in range(NUM_EPOCHS):\n",
    "    # print(f'Starting epoch {e}...')\n",
    "    if e%2 == 0:\n",
    "        batch = next(iterator_test_add)\n",
    "    elif e%2 == 1:\n",
    "        batch = next(iterator_test_mul)\n",
    "    \n",
    "    '''Reload weights'''\n",
    "    handler.network.load_save()\n",
    "    \n",
    "    '''Call Addition Mask'''\n",
    "    iterator_binary = iter(cycle(binary_mask))\n",
    "    \n",
    "    with torch.no_grad():\n",
    "        inp = torch.stack([torch.stack([b[0], b[1]]) for b in batch])\n",
    "        otp = torch.stack([b[2] for b in batch]).to(handler.network.device)\n",
    "        ops = torch.stack([b[3] for b in batch])\n",
    "        # Convert batch data toone-hot representation\n",
    "        inp, otp_ = handler.set_batched_digits(inp, otp, ops)\n",
    "        inp_ = inp.to(handler.network.device)\n",
    "        otp_ = otp_.to(handler.network.device)\n",
    "        \n",
    "        '''Pass batch data through masked net'''\n",
    "        idx = 0\n",
    "        for layer in handler.network.layers[0]:\n",
    "            if isinstance(layer, torch.nn.Linear):\n",
    "                b = layer.bias\n",
    "                w = layer.weight\n",
    "                m = next(iterator_binary)\n",
    "                inp_ = handler.network.forward_mask_layer(inp_, m, w, b)\n",
    "                idx+=1\n",
    "            else:\n",
    "                inp_ = layer(inp_)\n",
    "        otp_pred = inp_       \n",
    "\n",
    "        otp_stck = torch.stack([otp_pred[:,:10], otp_pred[:,10:]])\n",
    "        otp_argmax = torch.argmax(otp_stck, dim=2)\n",
    "        otp_class = otp_argmax[0]*10 + otp_argmax[1]\n",
    "        diff = otp_class - otp\n",
    "        cnt = len(diff[abs(diff) == 0])\n",
    "        otp_argmax = torch.argmax(otp_stck, dim=2)\n",
    "        otp_class = otp_argmax[0]*10 + otp_argmax[1]\n",
    "        diff = otp_class - otp\n",
    "        cnt = len(diff[abs(diff) == 0])\n",
    "        \n",
    "        acc = cnt/float((len(diff)))\n",
    "        if e%2 == 0:\n",
    "            add_acc += acc\n",
    "        else: \n",
    "            mul_acc += acc"
   ]
  },
  {
   "cell_type": "code",
   "execution_count": 6,
   "id": "d5906a77",
   "metadata": {},
   "outputs": [
    {
     "name": "stdout",
     "output_type": "stream",
     "text": [
      "Add Accuracy: 0.8369881465517242 \n",
      " Mul Accuracy: 0.0029849137931034484\n"
     ]
    }
   ],
   "source": [
    "print(f'Add Accuracy: {add_acc/100} \\n Mul Accuracy: {mul_acc/100}')"
   ]
  }
 ],
 "metadata": {
  "kernelspec": {
   "display_name": "Python 3 (ipykernel)",
   "language": "python",
   "name": "python3"
  },
  "language_info": {
   "codemirror_mode": {
    "name": "ipython",
    "version": 3
   },
   "file_extension": ".py",
   "mimetype": "text/x-python",
   "name": "python",
   "nbconvert_exporter": "python",
   "pygments_lexer": "ipython3",
   "version": "3.9.11"
  }
 },
 "nbformat": 4,
 "nbformat_minor": 5
}
